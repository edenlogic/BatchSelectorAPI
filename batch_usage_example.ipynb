{
 "cells": [
  {
   "cell_type": "markdown",
   "id": "37550e8f",
   "metadata": {},
   "source": [
    "# Smart Batch Size API – Example Usage\n",
    "\n",
    "This notebook demonstrates how to use the finalized Smart Batch Size API, including:\n",
    "- `selectBatchSize()` for general model/batch evaluation\n",
    "- `getBatchSizeMNIST()` for MNIST dataset with built-in training logic\n"
   ]
  },
  {
   "cell_type": "code",
   "execution_count": null,
   "id": "62a2ddf3",
   "metadata": {},
   "outputs": [],
   "source": [
    "from batch_selector import selectBatchSize, getBatchSizeMNIST\n"
   ]
  },
  {
   "cell_type": "code",
   "execution_count": null,
   "id": "3b119ab0",
   "metadata": {},
   "outputs": [],
   "source": [
    "# Simple usage for MNIST\n",
    "best_batch = getBatchSizeMNIST(N=3000)\n",
    "print(\"Best batch size for MNIST:\", best_batch)\n"
   ]
  },
  {
   "cell_type": "markdown",
   "id": "534efad7",
   "metadata": {},
   "source": [
    "## Advanced Usage: Custom Model & Training\n",
    "\n",
    "To use `selectBatchSize`, you must define:\n",
    "- `model_fn()`: returns a new model instance\n",
    "- `train_fn(model, batch_size)`: trains the model and returns (accuracy, training_time)\n",
    "\n",
    "Example structure (you can adapt it to your own project):\n"
   ]
  },
  {
   "cell_type": "code",
   "execution_count": null,
   "id": "e7503e15",
   "metadata": {},
   "outputs": [],
   "source": [
    "# Example (placeholder):\n",
    "# def model_fn():\n",
    "#     return YourModel()\n",
    "\n",
    "# def train_fn(model, batch_size):\n",
    "#     ...\n",
    "#     return accuracy, training_time\n",
    "\n",
    "# best_bs = selectBatchSize(\n",
    "#     N=10000,\n",
    "#     model_fn=model_fn,\n",
    "#     train_fn=train_fn,\n",
    "#     widen=2\n",
    "# )\n",
    "# print(\"Best batch size:\", best_bs)\n"
   ]
  }
 ],
 "metadata": {
  "kernelspec": {
   "display_name": "Python 3",
   "name": "python3"
  }
 },
 "nbformat": 4,
 "nbformat_minor": 5
}
