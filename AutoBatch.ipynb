{
 "cells": [
  {
   "cell_type": "code",
   "execution_count": 1,
   "id": "9abccf87-22b3-489c-8aa0-315eae36ddae",
   "metadata": {},
   "outputs": [],
   "source": [
    "# Auto_BatchSize_API.py\n",
    "import math\n",
    "from typing import Optional, Union\n",
    "\n",
    "def auto_batch(\n",
    "    N: Optional[int] = None,\n",
    "    alpha_or_level: Optional[Union[int, float]] = None,\n",
    "    default: int = 128\n",
    ") -> int:\n",
    "    \"\"\"\n",
    "    Recommend an optimal batch size based on dataset size N and either:\n",
    "    - no second arg → alpha = 0.5 (default behavior)\n",
    "    - level 1~10 as int → alpha = level / 10\n",
    "\n",
    "    Parameters:\n",
    "        N (int, optional): Number of training samples\n",
    "        alpha_or_level (int or float, optional):\n",
    "            - None → default alpha = 0.5\n",
    "            - int 1~10 → mapped to alpha = 0.1 ~ 1.0\n",
    "        default (int): Fallback batch size if not computable\n",
    "\n",
    "    Returns:\n",
    "        int: Recommended batch size\n",
    "    \"\"\"\n",
    "    if N is None:\n",
    "        return default\n",
    "\n",
    "    # Determine alpha from second argument\n",
    "    if alpha_or_level is None:\n",
    "        alpha = 0.5\n",
    "    elif isinstance(alpha_or_level, int) and 1 <= alpha_or_level <= 10:\n",
    "        alpha = alpha_or_level / 10.0\n",
    "    else:\n",
    "        raise ValueError(\"Second argument must be None or integer 1~10\")\n",
    "\n",
    "    assert N > 0, \"N must be a positive integer\"\n",
    "\n",
    "    candidates = [2 ** i for i in range(5, 10)]  # 32 to 512\n",
    "    raw = math.sqrt(N)\n",
    "    scores = []\n",
    "    for B in candidates:\n",
    "        time = 1 / B\n",
    "        gap = abs(B - raw) / raw\n",
    "        score = alpha * time + (1 - alpha) * gap\n",
    "        scores.append((score, B))\n",
    "\n",
    "    _, best_batch = min(scores, key=lambda x: x[0])\n",
    "    return best_batch\n"
   ]
  },
  {
   "cell_type": "code",
   "execution_count": null,
   "id": "11a03093-13bf-4603-9cf6-3b8a5da3c7d0",
   "metadata": {},
   "outputs": [],
   "source": []
  }
 ],
 "metadata": {
  "kernelspec": {
   "display_name": "Python 3 (ipykernel)",
   "language": "python",
   "name": "python3"
  },
  "language_info": {
   "codemirror_mode": {
    "name": "ipython",
    "version": 3
   },
   "file_extension": ".py",
   "mimetype": "text/x-python",
   "name": "python",
   "nbconvert_exporter": "python",
   "pygments_lexer": "ipython3",
   "version": "3.12.9"
  }
 },
 "nbformat": 4,
 "nbformat_minor": 5
}
